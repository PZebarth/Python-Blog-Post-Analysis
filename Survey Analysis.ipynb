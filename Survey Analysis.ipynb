{
 "cells": [
  {
   "cell_type": "markdown",
   "metadata": {},
   "source": [
    "# StackOverflow Developer Survey Conclusions"
   ]
  },
  {
   "cell_type": "markdown",
   "metadata": {},
   "source": [
    "CRISP-DM stands for Cross Industry Process for Data Mining. I will be using this process to explore the survey results for StackOverflow's Developer Survey in 2017. The first step in the CRISP-DM process is understanding what bussiness understanding we can gain from our data, and the second step is understanding the data we have to analyze. Let's take a look and ask ourselves some questions we can answer using this dataset."
   ]
  },
  {
   "cell_type": "markdown",
   "metadata": {},
   "source": [
    "## Business Understanding\n",
    "\n",
    "From this data we can ask some interesting questions. I want to know:\n",
    "> 1. How common is becoming a developer with a physics background? <br>\n",
    "> 2. What programming languages should I focus on? <br>\n",
    "> 3. How should you learn the necessary programming languages? <br>\n"
   ]
  },
  {
   "cell_type": "markdown",
   "metadata": {},
   "source": [
    "## Data Understanding"
   ]
  },
  {
   "cell_type": "code",
   "execution_count": 1,
   "metadata": {},
   "outputs": [],
   "source": [
    "import pandas as pd\n",
    "import numpy as np\n",
    "import matplotlib.pyplot as plt\n",
    "import seaborn as sns\n",
    "%matplotlib inline"
   ]
  },
  {
   "cell_type": "code",
   "execution_count": 2,
   "metadata": {},
   "outputs": [],
   "source": [
    "df_results = pd.read_csv('survey_results_public.csv')\n",
    "df_schema = pd.read_csv('datasets_1406_2522_survey_results_schema.csv')"
   ]
  },
  {
   "cell_type": "code",
   "execution_count": 3,
   "metadata": {},
   "outputs": [
    {
     "name": "stdout",
     "output_type": "stream",
     "text": [
      "Respondent\n",
      "Professional\n",
      "ProgramHobby\n",
      "Country\n",
      "University\n",
      "EmploymentStatus\n",
      "FormalEducation\n",
      "MajorUndergrad\n",
      "HomeRemote\n",
      "CompanySize\n",
      "CompanyType\n",
      "YearsProgram\n",
      "YearsCodedJob\n",
      "YearsCodedJobPast\n",
      "DeveloperType\n",
      "WebDeveloperType\n",
      "MobileDeveloperType\n",
      "NonDeveloperType\n",
      "CareerSatisfaction\n",
      "JobSatisfaction\n",
      "ExCoderReturn\n",
      "ExCoderNotForMe\n",
      "ExCoderBalance\n",
      "ExCoder10Years\n",
      "ExCoderBelonged\n",
      "ExCoderSkills\n",
      "ExCoderWillNotCode\n",
      "ExCoderActive\n",
      "PronounceGIF\n",
      "ProblemSolving\n",
      "BuildingThings\n",
      "LearningNewTech\n",
      "BoringDetails\n",
      "JobSecurity\n",
      "DiversityImportant\n",
      "AnnoyingUI\n",
      "FriendsDevelopers\n",
      "RightWrongWay\n",
      "UnderstandComputers\n",
      "SeriousWork\n",
      "InvestTimeTools\n",
      "WorkPayCare\n",
      "KinshipDevelopers\n",
      "ChallengeMyself\n",
      "CompetePeers\n",
      "ChangeWorld\n",
      "JobSeekingStatus\n",
      "HoursPerWeek\n",
      "LastNewJob\n",
      "AssessJobIndustry\n",
      "AssessJobRole\n",
      "AssessJobExp\n",
      "AssessJobDept\n",
      "AssessJobTech\n",
      "AssessJobProjects\n",
      "AssessJobCompensation\n",
      "AssessJobOffice\n",
      "AssessJobCommute\n",
      "AssessJobRemote\n",
      "AssessJobLeaders\n",
      "AssessJobProfDevel\n",
      "AssessJobDiversity\n",
      "AssessJobProduct\n",
      "AssessJobFinances\n",
      "ImportantBenefits\n",
      "ClickyKeys\n",
      "JobProfile\n",
      "ResumePrompted\n",
      "LearnedHiring\n",
      "ImportantHiringAlgorithms\n",
      "ImportantHiringTechExp\n",
      "ImportantHiringCommunication\n",
      "ImportantHiringOpenSource\n",
      "ImportantHiringPMExp\n",
      "ImportantHiringCompanies\n",
      "ImportantHiringTitles\n",
      "ImportantHiringEducation\n",
      "ImportantHiringRep\n",
      "ImportantHiringGettingThingsDone\n",
      "Currency\n",
      "Overpaid\n",
      "TabsSpaces\n",
      "EducationImportant\n",
      "EducationTypes\n",
      "SelfTaughtTypes\n",
      "TimeAfterBootcamp\n",
      "CousinEducation\n",
      "WorkStart\n",
      "HaveWorkedLanguage\n",
      "WantWorkLanguage\n",
      "HaveWorkedFramework\n",
      "WantWorkFramework\n",
      "HaveWorkedDatabase\n",
      "WantWorkDatabase\n",
      "HaveWorkedPlatform\n",
      "WantWorkPlatform\n",
      "IDE\n",
      "AuditoryEnvironment\n",
      "Methodology\n",
      "VersionControl\n",
      "CheckInCode\n",
      "ShipIt\n",
      "OtherPeoplesCode\n",
      "ProjectManagement\n",
      "EnjoyDebugging\n",
      "InTheZone\n",
      "DifficultCommunication\n",
      "CollaborateRemote\n",
      "MetricAssess\n",
      "EquipmentSatisfiedMonitors\n",
      "EquipmentSatisfiedCPU\n",
      "EquipmentSatisfiedRAM\n",
      "EquipmentSatisfiedStorage\n",
      "EquipmentSatisfiedRW\n",
      "InfluenceInternet\n",
      "InfluenceWorkstation\n",
      "InfluenceHardware\n",
      "InfluenceServers\n",
      "InfluenceTechStack\n",
      "InfluenceDeptTech\n",
      "InfluenceVizTools\n",
      "InfluenceDatabase\n",
      "InfluenceCloud\n",
      "InfluenceConsultants\n",
      "InfluenceRecruitment\n",
      "InfluenceCommunication\n",
      "StackOverflowDescribes\n",
      "StackOverflowSatisfaction\n",
      "StackOverflowDevices\n",
      "StackOverflowFoundAnswer\n",
      "StackOverflowCopiedCode\n",
      "StackOverflowJobListing\n",
      "StackOverflowCompanyPage\n",
      "StackOverflowJobSearch\n",
      "StackOverflowNewQuestion\n",
      "StackOverflowAnswer\n",
      "StackOverflowMetaChat\n",
      "StackOverflowAdsRelevant\n",
      "StackOverflowAdsDistracting\n",
      "StackOverflowModeration\n",
      "StackOverflowCommunity\n",
      "StackOverflowHelpful\n",
      "StackOverflowBetter\n",
      "StackOverflowWhatDo\n",
      "StackOverflowMakeMoney\n",
      "Gender\n",
      "HighestEducationParents\n",
      "Race\n",
      "SurveyLong\n",
      "QuestionsInteresting\n",
      "QuestionsConfusing\n",
      "InterestedAnswers\n",
      "Salary\n",
      "ExpectedSalary\n"
     ]
    }
   ],
   "source": [
    "for i in range(len(df_results.columns)):\n",
    "    print(df_results.columns[i])"
   ]
  },
  {
   "cell_type": "markdown",
   "metadata": {},
   "source": [
    "I will focus my analysis on Canada where this information is important to me entering the field of data science. <br>\n",
    "\n",
    "Let's look at how much data we have to work on when we filter out all other countries except Canada."
   ]
  },
  {
   "cell_type": "code",
   "execution_count": 4,
   "metadata": {},
   "outputs": [
    {
     "data": {
      "text/html": [
       "<div>\n",
       "<style scoped>\n",
       "    .dataframe tbody tr th:only-of-type {\n",
       "        vertical-align: middle;\n",
       "    }\n",
       "\n",
       "    .dataframe tbody tr th {\n",
       "        vertical-align: top;\n",
       "    }\n",
       "\n",
       "    .dataframe thead th {\n",
       "        text-align: right;\n",
       "    }\n",
       "</style>\n",
       "<table border=\"1\" class=\"dataframe\">\n",
       "  <thead>\n",
       "    <tr style=\"text-align: right;\">\n",
       "      <th></th>\n",
       "      <th>num_resp</th>\n",
       "      <th>percentage</th>\n",
       "    </tr>\n",
       "  </thead>\n",
       "  <tbody>\n",
       "    <tr>\n",
       "      <th>United States</th>\n",
       "      <td>11455</td>\n",
       "      <td>0.311938</td>\n",
       "    </tr>\n",
       "    <tr>\n",
       "      <th>India</th>\n",
       "      <td>5197</td>\n",
       "      <td>0.141523</td>\n",
       "    </tr>\n",
       "    <tr>\n",
       "      <th>United Kingdom</th>\n",
       "      <td>4395</td>\n",
       "      <td>0.119683</td>\n",
       "    </tr>\n",
       "    <tr>\n",
       "      <th>Germany</th>\n",
       "      <td>4143</td>\n",
       "      <td>0.112821</td>\n",
       "    </tr>\n",
       "    <tr>\n",
       "      <th>Canada</th>\n",
       "      <td>2233</td>\n",
       "      <td>0.060808</td>\n",
       "    </tr>\n",
       "    <tr>\n",
       "      <th>France</th>\n",
       "      <td>1740</td>\n",
       "      <td>0.047383</td>\n",
       "    </tr>\n",
       "    <tr>\n",
       "      <th>Poland</th>\n",
       "      <td>1290</td>\n",
       "      <td>0.035129</td>\n",
       "    </tr>\n",
       "    <tr>\n",
       "      <th>Australia</th>\n",
       "      <td>913</td>\n",
       "      <td>0.024862</td>\n",
       "    </tr>\n",
       "    <tr>\n",
       "      <th>Russian Federation</th>\n",
       "      <td>873</td>\n",
       "      <td>0.023773</td>\n",
       "    </tr>\n",
       "    <tr>\n",
       "      <th>Spain</th>\n",
       "      <td>864</td>\n",
       "      <td>0.023528</td>\n",
       "    </tr>\n",
       "    <tr>\n",
       "      <th>Netherlands</th>\n",
       "      <td>855</td>\n",
       "      <td>0.023283</td>\n",
       "    </tr>\n",
       "    <tr>\n",
       "      <th>Italy</th>\n",
       "      <td>781</td>\n",
       "      <td>0.021268</td>\n",
       "    </tr>\n",
       "    <tr>\n",
       "      <th>Brazil</th>\n",
       "      <td>777</td>\n",
       "      <td>0.021159</td>\n",
       "    </tr>\n",
       "    <tr>\n",
       "      <th>Sweden</th>\n",
       "      <td>611</td>\n",
       "      <td>0.016639</td>\n",
       "    </tr>\n",
       "    <tr>\n",
       "      <th>Switzerland</th>\n",
       "      <td>595</td>\n",
       "      <td>0.016203</td>\n",
       "    </tr>\n",
       "  </tbody>\n",
       "</table>\n",
       "</div>"
      ],
      "text/plain": [
       "                    num_resp  percentage\n",
       "United States          11455    0.311938\n",
       "India                   5197    0.141523\n",
       "United Kingdom          4395    0.119683\n",
       "Germany                 4143    0.112821\n",
       "Canada                  2233    0.060808\n",
       "France                  1740    0.047383\n",
       "Poland                  1290    0.035129\n",
       "Australia                913    0.024862\n",
       "Russian Federation       873    0.023773\n",
       "Spain                    864    0.023528\n",
       "Netherlands              855    0.023283\n",
       "Italy                    781    0.021268\n",
       "Brazil                   777    0.021159\n",
       "Sweden                   611    0.016639\n",
       "Switzerland              595    0.016203"
      ]
     },
     "execution_count": 4,
     "metadata": {},
     "output_type": "execute_result"
    }
   ],
   "source": [
    "df_country = pd.DataFrame(df_results.Country.value_counts()[:15])\n",
    "df_country.columns = ['num_resp']\n",
    "df_country['percentage'] = (df_results.Country.value_counts()[:15] / df_results.Country.value_counts()[:15].sum())\n",
    "df_country"
   ]
  },
  {
   "cell_type": "code",
   "execution_count": 5,
   "metadata": {},
   "outputs": [
    {
     "data": {
      "image/png": "[encoded data removed]",
      "text/plain": [
       "<Figure size 432x288 with 1 Axes>"
      ]
     },
     "metadata": {
      "needs_background": "light"
     },
     "output_type": "display_data"
    }
   ],
   "source": [
    "plt.barh(df_country.index, width=df_country.percentage);\n",
    "plt.gca().invert_yaxis()"
   ]
  },
  {
   "cell_type": "markdown",
   "metadata": {},
   "source": [
    "## Prepare Data"
   ]
  },
  {
   "cell_type": "code",
   "execution_count": 6,
   "metadata": {
    "scrolled": false
   },
   "outputs": [
    {
     "data": {
      "text/html": [
       "<div>\n",
       "<style scoped>\n",
       "    .dataframe tbody tr th:only-of-type {\n",
       "        vertical-align: middle;\n",
       "    }\n",
       "\n",
       "    .dataframe tbody tr th {\n",
       "        vertical-align: top;\n",
       "    }\n",
       "\n",
       "    .dataframe thead th {\n",
       "        text-align: right;\n",
       "    }\n",
       "</style>\n",
       "<table border=\"1\" class=\"dataframe\">\n",
       "  <thead>\n",
       "    <tr style=\"text-align: right;\">\n",
       "      <th></th>\n",
       "      <th>Respondent</th>\n",
       "      <th>Professional</th>\n",
       "      <th>ProgramHobby</th>\n",
       "      <th>Country</th>\n",
       "      <th>University</th>\n",
       "      <th>EmploymentStatus</th>\n",
       "      <th>FormalEducation</th>\n",
       "      <th>MajorUndergrad</th>\n",
       "      <th>HomeRemote</th>\n",
       "      <th>CompanySize</th>\n",
       "      <th>...</th>\n",
       "      <th>StackOverflowMakeMoney</th>\n",
       "      <th>Gender</th>\n",
       "      <th>HighestEducationParents</th>\n",
       "      <th>Race</th>\n",
       "      <th>SurveyLong</th>\n",
       "      <th>QuestionsInteresting</th>\n",
       "      <th>QuestionsConfusing</th>\n",
       "      <th>InterestedAnswers</th>\n",
       "      <th>Salary</th>\n",
       "      <th>ExpectedSalary</th>\n",
       "    </tr>\n",
       "  </thead>\n",
       "  <tbody>\n",
       "    <tr>\n",
       "      <th>11</th>\n",
       "      <td>12</td>\n",
       "      <td>Professional developer</td>\n",
       "      <td>No</td>\n",
       "      <td>Canada</td>\n",
       "      <td>No</td>\n",
       "      <td>Employed full-time</td>\n",
       "      <td>Bachelor's degree</td>\n",
       "      <td>Computer science or software engineering</td>\n",
       "      <td>A few days each month</td>\n",
       "      <td>100 to 499 employees</td>\n",
       "      <td>...</td>\n",
       "      <td>NaN</td>\n",
       "      <td>NaN</td>\n",
       "      <td>NaN</td>\n",
       "      <td>NaN</td>\n",
       "      <td>NaN</td>\n",
       "      <td>NaN</td>\n",
       "      <td>NaN</td>\n",
       "      <td>NaN</td>\n",
       "      <td>NaN</td>\n",
       "      <td>NaN</td>\n",
       "    </tr>\n",
       "    <tr>\n",
       "      <th>60</th>\n",
       "      <td>61</td>\n",
       "      <td>Professional non-developer who sometimes write...</td>\n",
       "      <td>Yes, I program as a hobby</td>\n",
       "      <td>Canada</td>\n",
       "      <td>No</td>\n",
       "      <td>Employed full-time</td>\n",
       "      <td>Bachelor's degree</td>\n",
       "      <td>Computer engineering or electrical/electronics...</td>\n",
       "      <td>It's complicated</td>\n",
       "      <td>10,000 or more employees</td>\n",
       "      <td>...</td>\n",
       "      <td>Strongly disagree</td>\n",
       "      <td>Male</td>\n",
       "      <td>Some college/university study, no bachelor's d...</td>\n",
       "      <td>White or of European descent</td>\n",
       "      <td>Disagree</td>\n",
       "      <td>Somewhat agree</td>\n",
       "      <td>Strongly disagree</td>\n",
       "      <td>Strongly agree</td>\n",
       "      <td>NaN</td>\n",
       "      <td>NaN</td>\n",
       "    </tr>\n",
       "    <tr>\n",
       "      <th>187</th>\n",
       "      <td>188</td>\n",
       "      <td>Professional developer</td>\n",
       "      <td>Yes, I program as a hobby</td>\n",
       "      <td>Canada</td>\n",
       "      <td>No</td>\n",
       "      <td>Employed full-time</td>\n",
       "      <td>Bachelor's degree</td>\n",
       "      <td>A natural science</td>\n",
       "      <td>Never</td>\n",
       "      <td>1,000 to 4,999 employees</td>\n",
       "      <td>...</td>\n",
       "      <td>NaN</td>\n",
       "      <td>NaN</td>\n",
       "      <td>NaN</td>\n",
       "      <td>NaN</td>\n",
       "      <td>NaN</td>\n",
       "      <td>NaN</td>\n",
       "      <td>NaN</td>\n",
       "      <td>NaN</td>\n",
       "      <td>NaN</td>\n",
       "      <td>NaN</td>\n",
       "    </tr>\n",
       "    <tr>\n",
       "      <th>188</th>\n",
       "      <td>189</td>\n",
       "      <td>Student</td>\n",
       "      <td>Yes, both</td>\n",
       "      <td>Canada</td>\n",
       "      <td>Yes, full-time</td>\n",
       "      <td>Independent contractor, freelancer, or self-em...</td>\n",
       "      <td>Secondary school</td>\n",
       "      <td>NaN</td>\n",
       "      <td>All or almost all the time (I'm full-time remote)</td>\n",
       "      <td>NaN</td>\n",
       "      <td>...</td>\n",
       "      <td>NaN</td>\n",
       "      <td>NaN</td>\n",
       "      <td>NaN</td>\n",
       "      <td>NaN</td>\n",
       "      <td>NaN</td>\n",
       "      <td>NaN</td>\n",
       "      <td>NaN</td>\n",
       "      <td>NaN</td>\n",
       "      <td>NaN</td>\n",
       "      <td>NaN</td>\n",
       "    </tr>\n",
       "    <tr>\n",
       "      <th>192</th>\n",
       "      <td>193</td>\n",
       "      <td>Professional developer</td>\n",
       "      <td>No</td>\n",
       "      <td>Canada</td>\n",
       "      <td>No</td>\n",
       "      <td>Employed full-time</td>\n",
       "      <td>Bachelor's degree</td>\n",
       "      <td>Computer science or software engineering</td>\n",
       "      <td>A few days each month</td>\n",
       "      <td>20 to 99 employees</td>\n",
       "      <td>...</td>\n",
       "      <td>Strongly disagree</td>\n",
       "      <td>Male</td>\n",
       "      <td>A doctoral degree</td>\n",
       "      <td>White or of European descent</td>\n",
       "      <td>Somewhat agree</td>\n",
       "      <td>Disagree</td>\n",
       "      <td>Strongly disagree</td>\n",
       "      <td>Strongly agree</td>\n",
       "      <td>87121.212121</td>\n",
       "      <td>NaN</td>\n",
       "    </tr>\n",
       "  </tbody>\n",
       "</table>\n",
       "<p>5 rows × 154 columns</p>\n",
       "</div>"
      ],
      "text/plain": [
       "     Respondent                                       Professional  \\\n",
       "11           12                             Professional developer   \n",
       "60           61  Professional non-developer who sometimes write...   \n",
       "187         188                             Professional developer   \n",
       "188         189                                            Student   \n",
       "192         193                             Professional developer   \n",
       "\n",
       "                  ProgramHobby Country      University  \\\n",
       "11                          No  Canada              No   \n",
       "60   Yes, I program as a hobby  Canada              No   \n",
       "187  Yes, I program as a hobby  Canada              No   \n",
       "188                  Yes, both  Canada  Yes, full-time   \n",
       "192                         No  Canada              No   \n",
       "\n",
       "                                      EmploymentStatus    FormalEducation  \\\n",
       "11                                  Employed full-time  Bachelor's degree   \n",
       "60                                  Employed full-time  Bachelor's degree   \n",
       "187                                 Employed full-time  Bachelor's degree   \n",
       "188  Independent contractor, freelancer, or self-em...   Secondary school   \n",
       "192                                 Employed full-time  Bachelor's degree   \n",
       "\n",
       "                                        MajorUndergrad  \\\n",
       "11            Computer science or software engineering   \n",
       "60   Computer engineering or electrical/electronics...   \n",
       "187                                  A natural science   \n",
       "188                                                NaN   \n",
       "192           Computer science or software engineering   \n",
       "\n",
       "                                            HomeRemote  \\\n",
       "11                               A few days each month   \n",
       "60                                    It's complicated   \n",
       "187                                              Never   \n",
       "188  All or almost all the time (I'm full-time remote)   \n",
       "192                              A few days each month   \n",
       "\n",
       "                  CompanySize  ... StackOverflowMakeMoney Gender  \\\n",
       "11       100 to 499 employees  ...                    NaN    NaN   \n",
       "60   10,000 or more employees  ...      Strongly disagree   Male   \n",
       "187  1,000 to 4,999 employees  ...                    NaN    NaN   \n",
       "188                       NaN  ...                    NaN    NaN   \n",
       "192        20 to 99 employees  ...      Strongly disagree   Male   \n",
       "\n",
       "                               HighestEducationParents  \\\n",
       "11                                                 NaN   \n",
       "60   Some college/university study, no bachelor's d...   \n",
       "187                                                NaN   \n",
       "188                                                NaN   \n",
       "192                                  A doctoral degree   \n",
       "\n",
       "                             Race      SurveyLong QuestionsInteresting  \\\n",
       "11                            NaN             NaN                  NaN   \n",
       "60   White or of European descent        Disagree       Somewhat agree   \n",
       "187                           NaN             NaN                  NaN   \n",
       "188                           NaN             NaN                  NaN   \n",
       "192  White or of European descent  Somewhat agree             Disagree   \n",
       "\n",
       "    QuestionsConfusing InterestedAnswers        Salary  ExpectedSalary  \n",
       "11                 NaN               NaN           NaN             NaN  \n",
       "60   Strongly disagree    Strongly agree           NaN             NaN  \n",
       "187                NaN               NaN           NaN             NaN  \n",
       "188                NaN               NaN           NaN             NaN  \n",
       "192  Strongly disagree    Strongly agree  87121.212121             NaN  \n",
       "\n",
       "[5 rows x 154 columns]"
      ]
     },
     "execution_count": 6,
     "metadata": {},
     "output_type": "execute_result"
    }
   ],
   "source": [
    "df_results_can = df_results[df_results['Country'] == 'Canada']\n",
    "df_results_can.head()"
   ]
  },
  {
   "cell_type": "code",
   "execution_count": 7,
   "metadata": {},
   "outputs": [
    {
     "data": {
      "text/plain": [
       "(2233, 154)"
      ]
     },
     "execution_count": 7,
     "metadata": {},
     "output_type": "execute_result"
    }
   ],
   "source": [
    "df_results_can.shape"
   ]
  },
  {
   "cell_type": "markdown",
   "metadata": {},
   "source": [
    "## Data Modelling"
   ]
  },
  {
   "cell_type": "markdown",
   "metadata": {},
   "source": [
    "### Question #1: How common is becoming a developer with a physics background?"
   ]
  },
  {
   "cell_type": "markdown",
   "metadata": {},
   "source": [
    "We can see respondents from Canada only make up 6% of the data and there are 2233 entries. From this what can we conlcude about undergradute majors and their importance to becoming a developer?"
   ]
  },
  {
   "cell_type": "markdown",
   "metadata": {},
   "source": [
    "<b>Analyzing</b>"
   ]
  },
  {
   "cell_type": "code",
   "execution_count": 8,
   "metadata": {},
   "outputs": [
    {
     "data": {
      "text/html": [
       "<div>\n",
       "<style scoped>\n",
       "    .dataframe tbody tr th:only-of-type {\n",
       "        vertical-align: middle;\n",
       "    }\n",
       "\n",
       "    .dataframe tbody tr th {\n",
       "        vertical-align: top;\n",
       "    }\n",
       "\n",
       "    .dataframe thead th {\n",
       "        text-align: right;\n",
       "    }\n",
       "</style>\n",
       "<table border=\"1\" class=\"dataframe\">\n",
       "  <thead>\n",
       "    <tr style=\"text-align: right;\">\n",
       "      <th></th>\n",
       "      <th>num of majors</th>\n",
       "      <th>percentage</th>\n",
       "    </tr>\n",
       "  </thead>\n",
       "  <tbody>\n",
       "    <tr>\n",
       "      <th>Computer science or software engineering</th>\n",
       "      <td>960</td>\n",
       "      <td>0.505796</td>\n",
       "    </tr>\n",
       "    <tr>\n",
       "      <th>Computer programming or Web development</th>\n",
       "      <td>229</td>\n",
       "      <td>0.120653</td>\n",
       "    </tr>\n",
       "    <tr>\n",
       "      <th>Computer engineering or electrical/electronics engineering</th>\n",
       "      <td>216</td>\n",
       "      <td>0.113804</td>\n",
       "    </tr>\n",
       "    <tr>\n",
       "      <th>A natural science</th>\n",
       "      <td>77</td>\n",
       "      <td>0.040569</td>\n",
       "    </tr>\n",
       "    <tr>\n",
       "      <th>A non-computer-focused engineering discipline</th>\n",
       "      <td>65</td>\n",
       "      <td>0.034247</td>\n",
       "    </tr>\n",
       "    <tr>\n",
       "      <th>Mathematics or statistics</th>\n",
       "      <td>62</td>\n",
       "      <td>0.032666</td>\n",
       "    </tr>\n",
       "    <tr>\n",
       "      <th>Information technology, networking, or system administration</th>\n",
       "      <td>58</td>\n",
       "      <td>0.030558</td>\n",
       "    </tr>\n",
       "    <tr>\n",
       "      <th>Something else</th>\n",
       "      <td>46</td>\n",
       "      <td>0.024236</td>\n",
       "    </tr>\n",
       "    <tr>\n",
       "      <th>A business discipline</th>\n",
       "      <td>40</td>\n",
       "      <td>0.021075</td>\n",
       "    </tr>\n",
       "    <tr>\n",
       "      <th>A humanities discipline</th>\n",
       "      <td>35</td>\n",
       "      <td>0.018440</td>\n",
       "    </tr>\n",
       "    <tr>\n",
       "      <th>Fine arts or performing arts</th>\n",
       "      <td>34</td>\n",
       "      <td>0.017914</td>\n",
       "    </tr>\n",
       "    <tr>\n",
       "      <th>A social science</th>\n",
       "      <td>30</td>\n",
       "      <td>0.015806</td>\n",
       "    </tr>\n",
       "    <tr>\n",
       "      <th>I never declared a major</th>\n",
       "      <td>16</td>\n",
       "      <td>0.008430</td>\n",
       "    </tr>\n",
       "    <tr>\n",
       "      <th>Management information systems</th>\n",
       "      <td>10</td>\n",
       "      <td>0.005269</td>\n",
       "    </tr>\n",
       "    <tr>\n",
       "      <th>Psychology</th>\n",
       "      <td>10</td>\n",
       "      <td>0.005269</td>\n",
       "    </tr>\n",
       "    <tr>\n",
       "      <th>A health science</th>\n",
       "      <td>10</td>\n",
       "      <td>0.005269</td>\n",
       "    </tr>\n",
       "  </tbody>\n",
       "</table>\n",
       "</div>"
      ],
      "text/plain": [
       "                                                    num of majors  percentage\n",
       "Computer science or software engineering                      960    0.505796\n",
       "Computer programming or Web development                       229    0.120653\n",
       "Computer engineering or electrical/electronics ...            216    0.113804\n",
       "A natural science                                              77    0.040569\n",
       "A non-computer-focused engineering discipline                  65    0.034247\n",
       "Mathematics or statistics                                      62    0.032666\n",
       "Information technology, networking, or system a...             58    0.030558\n",
       "Something else                                                 46    0.024236\n",
       "A business discipline                                          40    0.021075\n",
       "A humanities discipline                                        35    0.018440\n",
       "Fine arts or performing arts                                   34    0.017914\n",
       "A social science                                               30    0.015806\n",
       "I never declared a major                                       16    0.008430\n",
       "Management information systems                                 10    0.005269\n",
       "Psychology                                                     10    0.005269\n",
       "A health science                                               10    0.005269"
      ]
     },
     "execution_count": 8,
     "metadata": {},
     "output_type": "execute_result"
    }
   ],
   "source": [
    "df_undergrad = pd.DataFrame(df_results_can.MajorUndergrad.value_counts())\n",
    "df_undergrad.columns = ['num of majors']\n",
    "entries = df_results_can.shape[0] - df_results_can.MajorUndergrad.isnull().sum()\n",
    "df_undergrad['percentage'] = df_results_can.MajorUndergrad.value_counts() / entries\n",
    "df_undergrad"
   ]
  },
  {
   "cell_type": "markdown",
   "metadata": {},
   "source": [
    "<b>Visualizing</b>"
   ]
  },
  {
   "cell_type": "code",
   "execution_count": 9,
   "metadata": {},
   "outputs": [
    {
     "data": {
      "image/png": "[encoded data removed]",
      "text/plain": [
       "<Figure size 432x288 with 1 Axes>"
      ]
     },
     "metadata": {
      "needs_background": "light"
     },
     "output_type": "display_data"
    }
   ],
   "source": [
    "plt.barh(df_undergrad.index, df_undergrad.percentage);\n",
    "plt.gca().invert_yaxis()\n",
    "plt.title('Undergraduate Majors Who Become Developers')\n",
    "plt.xlabel('Percentage')\n",
    "plt.ylabel('Majors');"
   ]
  },
  {
   "cell_type": "markdown",
   "metadata": {},
   "source": [
    "It is evident with only 4% of respondents having a background in natural science that it is uncommon to become a developer without an undergraduate degree in: computer science or software engineering, computer programming or Web development, or computer engineering or electrical/electronics engineering. These three categories had a combined representation of 74%."
   ]
  },
  {
   "cell_type": "markdown",
   "metadata": {},
   "source": [
    "### Question #2: What programming languages should you focus on?"
   ]
  },
  {
   "cell_type": "markdown",
   "metadata": {},
   "source": [
    "There are a total of 34 languages developer respondednts have said they worked with, but which is most popular? The answer would be important to know what languages companies need to support their business."
   ]
  },
  {
   "cell_type": "markdown",
   "metadata": {},
   "source": [
    "<b>Analyzing</b>"
   ]
  },
  {
   "cell_type": "code",
   "execution_count": 29,
   "metadata": {},
   "outputs": [],
   "source": [
    "def counter_column(df, column, new_column):\n",
    "    \"\"\"\n",
    "    Returns value counts for a column where rows have a list of ; seperated values\n",
    "    \n",
    "    df - dataframe which contains the data\n",
    "    \n",
    "    column - the column which contains the nested lists\n",
    "    \n",
    "    new_column -  the column name you want for the unique values of items in the nested lists\n",
    "    \n",
    "    \"\"\"\n",
    "    # splits values of column\n",
    "    df_copy = df\n",
    "    df_copy = df_copy[column].dropna()\n",
    "    df_copy = df_copy.apply(lambda x: x.split(';'))\n",
    "    \n",
    "    # counts unique values of nested list\n",
    "    temp = []\n",
    "    for row in df_copy:\n",
    "        for item in row:\n",
    "            temp.append(item.strip())\n",
    "    temp = [[x,temp.count(x)] for x in set(temp)]\n",
    "    \n",
    "    # creates a dataframe of counts and percentages for desired column\n",
    "    df_new = pd.DataFrame(temp)\n",
    "    df_new.columns = [new_column, 'counts']\n",
    "    df_new['percentage'] = df_new.counts / df_new.counts.sum()\n",
    "    df_new = df_new.sort_values(by = 'percentage', ascending = False)\n",
    "    \n",
    "    return df_new"
   ]
  },
  {
   "cell_type": "code",
   "execution_count": 23,
   "metadata": {},
   "outputs": [
    {
     "data": {
      "text/html": [
       "<div>\n",
       "<style scoped>\n",
       "    .dataframe tbody tr th:only-of-type {\n",
       "        vertical-align: middle;\n",
       "    }\n",
       "\n",
       "    .dataframe tbody tr th {\n",
       "        vertical-align: top;\n",
       "    }\n",
       "\n",
       "    .dataframe thead th {\n",
       "        text-align: right;\n",
       "    }\n",
       "</style>\n",
       "<table border=\"1\" class=\"dataframe\">\n",
       "  <thead>\n",
       "    <tr style=\"text-align: right;\">\n",
       "      <th></th>\n",
       "      <th>languages</th>\n",
       "      <th>counts</th>\n",
       "      <th>percentage</th>\n",
       "    </tr>\n",
       "  </thead>\n",
       "  <tbody>\n",
       "    <tr>\n",
       "      <th>21</th>\n",
       "      <td>JavaScript</td>\n",
       "      <td>1104</td>\n",
       "      <td>0.165220</td>\n",
       "    </tr>\n",
       "    <tr>\n",
       "      <th>22</th>\n",
       "      <td>SQL</td>\n",
       "      <td>872</td>\n",
       "      <td>0.130500</td>\n",
       "    </tr>\n",
       "    <tr>\n",
       "      <th>18</th>\n",
       "      <td>C#</td>\n",
       "      <td>647</td>\n",
       "      <td>0.096827</td>\n",
       "    </tr>\n",
       "    <tr>\n",
       "      <th>34</th>\n",
       "      <td>Python</td>\n",
       "      <td>620</td>\n",
       "      <td>0.092787</td>\n",
       "    </tr>\n",
       "    <tr>\n",
       "      <th>25</th>\n",
       "      <td>Java</td>\n",
       "      <td>613</td>\n",
       "      <td>0.091739</td>\n",
       "    </tr>\n",
       "    <tr>\n",
       "      <th>9</th>\n",
       "      <td>PHP</td>\n",
       "      <td>424</td>\n",
       "      <td>0.063454</td>\n",
       "    </tr>\n",
       "    <tr>\n",
       "      <th>14</th>\n",
       "      <td>C++</td>\n",
       "      <td>407</td>\n",
       "      <td>0.060910</td>\n",
       "    </tr>\n",
       "    <tr>\n",
       "      <th>16</th>\n",
       "      <td>C</td>\n",
       "      <td>308</td>\n",
       "      <td>0.046094</td>\n",
       "    </tr>\n",
       "    <tr>\n",
       "      <th>23</th>\n",
       "      <td>TypeScript</td>\n",
       "      <td>176</td>\n",
       "      <td>0.026339</td>\n",
       "    </tr>\n",
       "    <tr>\n",
       "      <th>19</th>\n",
       "      <td>Ruby</td>\n",
       "      <td>174</td>\n",
       "      <td>0.026040</td>\n",
       "    </tr>\n",
       "  </tbody>\n",
       "</table>\n",
       "</div>"
      ],
      "text/plain": [
       "     languages  counts  percentage\n",
       "21  JavaScript    1104    0.165220\n",
       "22         SQL     872    0.130500\n",
       "18          C#     647    0.096827\n",
       "34      Python     620    0.092787\n",
       "25        Java     613    0.091739\n",
       "9          PHP     424    0.063454\n",
       "14         C++     407    0.060910\n",
       "16           C     308    0.046094\n",
       "23  TypeScript     176    0.026339\n",
       "19        Ruby     174    0.026040"
      ]
     },
     "execution_count": 23,
     "metadata": {},
     "output_type": "execute_result"
    }
   ],
   "source": [
    "counter_column(df_results_can, 'HaveWorkedLanguage', 'languages')[:10]"
   ]
  },
  {
   "cell_type": "code",
   "execution_count": 24,
   "metadata": {},
   "outputs": [],
   "source": [
    "langs = counter_column(df_results_can, 'HaveWorkedLanguage', 'languages')[:10]"
   ]
  },
  {
   "cell_type": "markdown",
   "metadata": {},
   "source": [
    "<b>Visualizing</b>"
   ]
  },
  {
   "cell_type": "code",
   "execution_count": 25,
   "metadata": {},
   "outputs": [
    {
     "data": {
      "image/png": "[encoded data removed]",
      "text/plain": [
       "<Figure size 432x288 with 1 Axes>"
      ]
     },
     "metadata": {
      "needs_background": "light"
     },
     "output_type": "display_data"
    }
   ],
   "source": [
    "plt.barh(langs.languages ,langs.percentage);\n",
    "plt.gca().invert_yaxis()\n",
    "plt.title('Most Popular Programming Languages')\n",
    "plt.xlabel('Percentage')\n",
    "plt.ylabel('Programming Languages');"
   ]
  },
  {
   "cell_type": "markdown",
   "metadata": {},
   "source": [
    "The top 4 programming languages make up approximately 48% of languages developers have worked with. Understanding these 4 would prepare you for nearly half of all jobs."
   ]
  },
  {
   "cell_type": "markdown",
   "metadata": {},
   "source": [
    "### Question #3: How should you learn the necessary programming languages?"
   ]
  },
  {
   "cell_type": "markdown",
   "metadata": {},
   "source": [
    "There are a number of different ways to learn, from universities, online educators, books, etc. So which is the best method to prepare yourself for a job?"
   ]
  },
  {
   "cell_type": "markdown",
   "metadata": {},
   "source": [
    "<b>Analyzing</b>"
   ]
  },
  {
   "cell_type": "code",
   "execution_count": 26,
   "metadata": {},
   "outputs": [
    {
     "data": {
      "text/html": [
       "<div>\n",
       "<style scoped>\n",
       "    .dataframe tbody tr th:only-of-type {\n",
       "        vertical-align: middle;\n",
       "    }\n",
       "\n",
       "    .dataframe tbody tr th {\n",
       "        vertical-align: top;\n",
       "    }\n",
       "\n",
       "    .dataframe thead th {\n",
       "        text-align: right;\n",
       "    }\n",
       "</style>\n",
       "<table border=\"1\" class=\"dataframe\">\n",
       "  <thead>\n",
       "    <tr style=\"text-align: right;\">\n",
       "      <th></th>\n",
       "      <th>methods</th>\n",
       "      <th>counts</th>\n",
       "      <th>percentage</th>\n",
       "    </tr>\n",
       "  </thead>\n",
       "  <tbody>\n",
       "    <tr>\n",
       "      <th>2</th>\n",
       "      <td>Take online courses</td>\n",
       "      <td>608</td>\n",
       "      <td>0.196256</td>\n",
       "    </tr>\n",
       "    <tr>\n",
       "      <th>5</th>\n",
       "      <td>Buy books and work through the exercises</td>\n",
       "      <td>426</td>\n",
       "      <td>0.137508</td>\n",
       "    </tr>\n",
       "    <tr>\n",
       "      <th>4</th>\n",
       "      <td>Return to college</td>\n",
       "      <td>375</td>\n",
       "      <td>0.121046</td>\n",
       "    </tr>\n",
       "    <tr>\n",
       "      <th>12</th>\n",
       "      <td>Part-time/evening courses</td>\n",
       "      <td>336</td>\n",
       "      <td>0.108457</td>\n",
       "    </tr>\n",
       "    <tr>\n",
       "      <th>10</th>\n",
       "      <td>Contribute to open source</td>\n",
       "      <td>322</td>\n",
       "      <td>0.103938</td>\n",
       "    </tr>\n",
       "    <tr>\n",
       "      <th>6</th>\n",
       "      <td>Bootcamp</td>\n",
       "      <td>214</td>\n",
       "      <td>0.069077</td>\n",
       "    </tr>\n",
       "    <tr>\n",
       "      <th>1</th>\n",
       "      <td>Conferences/meet-ups</td>\n",
       "      <td>213</td>\n",
       "      <td>0.068754</td>\n",
       "    </tr>\n",
       "    <tr>\n",
       "      <th>9</th>\n",
       "      <td>Get a job as a QA tester</td>\n",
       "      <td>153</td>\n",
       "      <td>0.049387</td>\n",
       "    </tr>\n",
       "    <tr>\n",
       "      <th>8</th>\n",
       "      <td>Participate in hackathons</td>\n",
       "      <td>134</td>\n",
       "      <td>0.043254</td>\n",
       "    </tr>\n",
       "    <tr>\n",
       "      <th>3</th>\n",
       "      <td>Participate in online coding competitions</td>\n",
       "      <td>113</td>\n",
       "      <td>0.036475</td>\n",
       "    </tr>\n",
       "    <tr>\n",
       "      <th>0</th>\n",
       "      <td>Other</td>\n",
       "      <td>112</td>\n",
       "      <td>0.036152</td>\n",
       "    </tr>\n",
       "    <tr>\n",
       "      <th>11</th>\n",
       "      <td>Master's degree</td>\n",
       "      <td>73</td>\n",
       "      <td>0.023564</td>\n",
       "    </tr>\n",
       "    <tr>\n",
       "      <th>7</th>\n",
       "      <td>None of these</td>\n",
       "      <td>19</td>\n",
       "      <td>0.006133</td>\n",
       "    </tr>\n",
       "  </tbody>\n",
       "</table>\n",
       "</div>"
      ],
      "text/plain": [
       "                                      methods  counts  percentage\n",
       "2                         Take online courses     608    0.196256\n",
       "5    Buy books and work through the exercises     426    0.137508\n",
       "4                           Return to college     375    0.121046\n",
       "12                  Part-time/evening courses     336    0.108457\n",
       "10                  Contribute to open source     322    0.103938\n",
       "6                                    Bootcamp     214    0.069077\n",
       "1                        Conferences/meet-ups     213    0.068754\n",
       "9                    Get a job as a QA tester     153    0.049387\n",
       "8                   Participate in hackathons     134    0.043254\n",
       "3   Participate in online coding competitions     113    0.036475\n",
       "0                                       Other     112    0.036152\n",
       "11                            Master's degree      73    0.023564\n",
       "7                               None of these      19    0.006133"
      ]
     },
     "execution_count": 26,
     "metadata": {},
     "output_type": "execute_result"
    }
   ],
   "source": [
    "counter_column(df_results_can, 'CousinEducation', 'methods')"
   ]
  },
  {
   "cell_type": "code",
   "execution_count": 27,
   "metadata": {},
   "outputs": [],
   "source": [
    "edu_methods = counter_column(df_results_can, 'CousinEducation', 'methods')"
   ]
  },
  {
   "cell_type": "markdown",
   "metadata": {},
   "source": [
    "<b>Visualizing</b>"
   ]
  },
  {
   "cell_type": "code",
   "execution_count": 28,
   "metadata": {},
   "outputs": [
    {
     "data": {
      "image/png": "[encoded data removed]",
      "text/plain": [
       "<Figure size 432x288 with 1 Axes>"
      ]
     },
     "metadata": {
      "needs_background": "light"
     },
     "output_type": "display_data"
    }
   ],
   "source": [
    "plt.barh(edu_methods.methods, edu_methods.percentage);\n",
    "plt.gca().invert_yaxis()\n",
    "plt.title('Best Methods of Learning')\n",
    "plt.xlabel('Percentage')\n",
    "plt.ylabel('Methods');"
   ]
  },
  {
   "cell_type": "markdown",
   "metadata": {},
   "source": [
    "From this data we can see that the highest recommendation is taking online courses to build your skills to prepare yourself to get a job. If we combine the take online courses, buy books and work through exercises, part time/evening courses, and bootcamp they make up 51% of the suggested methods. They also all have in common that they can  be done in free time or after work."
   ]
  }
 ],
 "metadata": {
  "kernelspec": {
   "display_name": "Python 3",
   "language": "python",
   "name": "python3"
  },
  "language_info": {
   "codemirror_mode": {
    "name": "ipython",
    "version": 3
   },
   "file_extension": ".py",
   "mimetype": "text/x-python",
   "name": "python",
   "nbconvert_exporter": "python",
   "pygments_lexer": "ipython3",
   "version": "3.7.4"
  }
 },
 "nbformat": 4,
 "nbformat_minor": 2
}
